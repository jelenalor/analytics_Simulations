{
 "cells": [
  {
   "cell_type": "markdown",
   "metadata": {},
   "source": [
    "### Single Serve Queuing System Simulation\n",
    "*July 2019*\n",
    "\n",
    "<br>\n",
    "\n",
    "**Author - Jelena Lor**\n",
    "\n",
    "*Statistics - Poisson and Uniform distribution*\n",
    "\n",
    "<br>\n",
    "\n",
    "\n",
    "*Includes interactive visualization which will only run on your own PC (jupyter lab is not yet compatable with interactive visualizations)*\n",
    "\n",
    "\n",
    "Running simulation shows:\n",
    "- How many customers in the store during any point of time (20 minutes time lapse)\n",
    "- How many time the store is clsoed lae by 20, 40 etc minutes\n",
    "\n",
    "<br>"
   ]
  },
  {
   "cell_type": "code",
   "execution_count": null,
   "metadata": {},
   "outputs": [],
   "source": [
    "import numpy as np\n",
    "import matplotlib.pyplot as plt\n",
    "import seaborn as sns\n",
    "from ipywidgets import interactive, fixed\n",
    "import random\n",
    "import math"
   ]
  },
  {
   "cell_type": "code",
   "execution_count": 7,
   "metadata": {},
   "outputs": [],
   "source": [
    "# LOAD DATA\n",
    "arrivals = []\n",
    "with open(r\"arrivals.dat\", \"r\") as f:\n",
    "    for line in f:\n",
    "        arrivals.append(int(line))\n",
    "        \n",
    "service = []\n",
    "with open(r\"service.dat\", \"r\") as f:\n",
    "    for line in f:\n",
    "        service.append(int(line))  \n",
    "        \n",
    "#--\n",
    "# function to generate Poisson distribution (p_dist)\n",
    "# input variables:\n",
    "#  lam = the Poisson process rate (default = 1.0)\n",
    "#  T = maximum arrival time (default = 10)\n",
    "# return value:\n",
    "#  list of arrival times, in ascending order, with maximum arrival time T\n",
    "#--\n",
    "def my_poisson(lam = 1.0, T = 10):\n",
    "    t = 0\n",
    "    i = 0\n",
    "    more = True\n",
    "    p_dist = []\n",
    "    while (more):\n",
    "        U = random.random()\n",
    "        t = t - (1 / lam) * math.log(U)\n",
    "        if ( t > T ):\n",
    "            more = False\n",
    "        else:\n",
    "            i = i + 1\n",
    "            p_dist.append(round(t, 2))\n",
    "    return p_dist"
   ]
  },
  {
   "cell_type": "markdown",
   "metadata": {},
   "source": [
    "# Single-server Queuing System"
   ]
  },
  {
   "cell_type": "code",
   "execution_count": 50,
   "metadata": {},
   "outputs": [],
   "source": [
    "# VARIABLES\n",
    "#Elapsed time in minutes\n",
    "t = 0\n",
    "#Number of customers arrivals --> Will be based on Poisson\n",
    "Na = 0\n",
    "#Number of customers departures --> Will be calculated\n",
    "Nd = 0\n",
    "#Number of customers in the system\n",
    "N = 0\n",
    "#Fixed time that customer can arrive to the system (From opening to close 9-5pm) 8 hours or 480 minutes\n",
    "T = 480\n",
    "\n",
    "#Other variables:\n",
    "#How many customers per minute to arrive\n",
    "lam = 0.08\n",
    "#How long to serve customer --> between 2-8 minutes\n",
    "a = 2\n",
    "b = 8\n",
    "\n",
    "# FUNCTIONS\n",
    "def service_time(a, b):\n",
    "    return round(np.random.uniform(a, b), 2)\n",
    "\n",
    "def event_list(lam, T, a, b):\n",
    "    arrival_times = my_poisson(lam = lam, T = T)\n",
    "    service_finished = []\n",
    "    queue = []\n",
    "    time_counter = 0\n",
    "    for index, arrival in enumerate(arrival_times):\n",
    "        #Still serving previous customer --> add to the queue\n",
    "        if index == 0:\n",
    "                service_duration = service_time(a, b)\n",
    "                depart = round(arrival + service_duration, 2)\n",
    "                service_finished.append(depart)\n",
    "                time_counter = depart\n",
    "\n",
    "        elif index > 0:\n",
    "            #Who cames first arrival or person in the queue?\n",
    "            if arrival <= service_finished[-1]:\n",
    "                queue.append(arrival)\n",
    "                queue.pop(0)\n",
    "                new_time = time_counter\n",
    "                service_duration = service_time(a, b)\n",
    "                depart = round(new_time + service_duration, 2)\n",
    "                service_finished.append(depart)\n",
    "                time_counter = depart\n",
    "\n",
    "            elif len(queue) != 0 and queue[0] < arrival:\n",
    "                #Remove from queue and serve\n",
    "                queue.pop(0)\n",
    "                new_time = time_counter\n",
    "                service_duration = service_time(a, b)\n",
    "                depart = round(new_time + service_duration, 2)\n",
    "                service_finished.append(depart)\n",
    "                time_counter = depart\n",
    "\n",
    "            else:\n",
    "                service_duration = service_time(a, b)\n",
    "                depart = round(arrival + service_duration, 2)\n",
    "                service_finished.append(depart)\n",
    "                time_counter = depart\n",
    "    return arrival_times, service_finished\n",
    "    \n",
    "def customer_counter(time_lapse, arr, dep, T):\n",
    "    t = 0\n",
    "    time = []\n",
    "    number_customer = []\n",
    "    while t <= T:\n",
    "        t += time_lapse\n",
    "        time.append(t)\n",
    "\n",
    "        arrived_count = sum(c < t for c in arr)\n",
    "        departed_count = sum(c < t for c in dep)\n",
    "\n",
    "        customers_in_shop = arrived_count - departed_count\n",
    "        number_customer.append(customers_in_shop)\n",
    "    return time, number_customer\n",
    "\n",
    "def closing_time(dep, T):\n",
    "    if dep[-1] <= T:\n",
    "        print(\"Normal Closing Time \", T )\n",
    "    else:\n",
    "        hour = 9 + int(dep[-1]/60)\n",
    "        minutes = int(dep[-1]%60)\n",
    "        if len(str(minutes)) == 1:\n",
    "            print(\"Had to finish serve customers, closed store at %s.0%s\" %(hour, minutes))\n",
    "        else:\n",
    "             print(\"Had to finish serve customers, closed store at %s.%s\" %(hour, minutes))\n",
    "                \n",
    "def get_closing_summary(dep, T):\n",
    "    if dep[-1] <= T:\n",
    "        return 0\n",
    "    elif (dep[-1] - T) < 10:\n",
    "        return 10\n",
    "    elif (dep[-1] - T) > 10 and (dep[-1] - T) < 20:\n",
    "        return 20\n",
    "    elif (dep[-1] - T) > 20 and (dep[-1] - T) < 30:\n",
    "        return 30\n",
    "    elif (dep[-1] - T) > 30 and (dep[-1] - T) < 40:\n",
    "        return 40\n",
    "    elif (dep[-1] - T) > 40 and (dep[-1] - T) < 50:\n",
    "        return 50\n",
    "    elif (dep[-1] - T) > 50 and (dep[-1] - T) < 60:\n",
    "        return 60\n",
    "    elif (dep[-1] - T) > 60 and (dep[-1] - T) < 70:\n",
    "        return 70\n",
    "    else:\n",
    "        return 80\n",
    "    \n",
    "def get_labels(time):\n",
    "    start = 9\n",
    "    labels = []\n",
    "    for t in time:\n",
    "        hour = start + t // 60\n",
    "        minutes = round(t%60, 2)\n",
    "        if minutes == 0:     \n",
    "            label = str(hour) + \".\" + \"00\"\n",
    "        else:\n",
    "            label = str(hour) + \".\" + str(minutes)\n",
    "        labels.append(label)\n",
    "    return labels\n",
    "    \n",
    "def build_store_profile(lam, T, a, b, time_lapse):\n",
    "    #get data simulated\n",
    "    arr, dep = event_list(lam, T, a, b)\n",
    "    #get counter\n",
    "    time, num = customer_counter(time_lapse, arr, dep, T)\n",
    "    #get time labels\n",
    "    labels_ = get_labels(time)\n",
    "    #Build visualisation\n",
    "    plt.figure(figsize = (20,4))\n",
    "    sns.barplot(time, num)\n",
    "    plt.xticks(np.arange(len(time)), labels_)\n",
    "    plt.xlabel(\"Time\")\n",
    "    plt.ylabel(\"Number of customers in the store\")\n",
    "    plt.show()\n",
    "    print(\"Average customers per hour \", lam*60)\n",
    "    closing_time(dep, T)"
   ]
  },
  {
   "cell_type": "code",
   "execution_count": 51,
   "metadata": {},
   "outputs": [
    {
     "data": {
      "image/png": "[encoded data removed]",
      "text/plain": [
       "<Figure size 1440x288 with 1 Axes>"
      ]
     },
     "metadata": {
      "needs_background": "light"
     },
     "output_type": "display_data"
    },
    {
     "name": "stdout",
     "output_type": "stream",
     "text": [
      "Average customers per hour  6.0\n",
      "Had to finish serve customers, closed store at 17.05\n"
     ]
    }
   ],
   "source": [
    "lam = 0.1\n",
    "T = 480\n",
    "a = 2\n",
    "b = 8\n",
    "time_lapse = 20\n",
    "\n",
    "build_store_profile(lam, T, a, b, time_lapse)"
   ]
  },
  {
   "cell_type": "code",
   "execution_count": 52,
   "metadata": {},
   "outputs": [],
   "source": [
    "store_simulation = interactive(build_store_profile, lam = (0.1,0.8,0.1), T = fixed(480), \\\n",
    "                               a = (1,5,1), b = (3,10,1), time_lapse = {\"five\":5, \"ten\":10, \"twenty\":20})"
   ]
  },
  {
   "cell_type": "code",
   "execution_count": 53,
   "metadata": {},
   "outputs": [
    {
     "data": {
      "image/png": "[encoded data removed]",
      "text/plain": [
       "<Figure size 1440x288 with 1 Axes>"
      ]
     },
     "metadata": {
      "needs_background": "light"
     },
     "output_type": "display_data"
    },
    {
     "name": "stdout",
     "output_type": "stream",
     "text": [
      "Average customers per hour  24.0\n",
      "Had to finish serve customers, closed store at 21.26\n"
     ]
    }
   ],
   "source": [
    "store_simulation"
   ]
  },
  {
   "cell_type": "code",
   "execution_count": 66,
   "metadata": {},
   "outputs": [],
   "source": [
    "def build_closing_profile(lam, T, a, b, time_lapse):\n",
    "    #get data simulated\n",
    "    arr, dep = event_list(lam, T, a, b)\n",
    "    # Get closing summary\n",
    "    return get_closing_summary(dep, T)"
   ]
  },
  {
   "cell_type": "code",
   "execution_count": 70,
   "metadata": {},
   "outputs": [],
   "source": [
    "def store_closing(iterations, lam, T, a, b, time_lapse):\n",
    "    iterations = iterations\n",
    "    closing_times = []\n",
    "    for i in range(iterations):\n",
    "        cl = build_closing_profile(lam, T, a, b, time_lapse)\n",
    "        closing_times.append(cl)\n",
    "\n",
    "    plt.figure(figsize = (10, 3))\n",
    "    value, counts = np.unique(closing_times, return_counts = True)\n",
    "    sns.barplot(value, counts)\n",
    "    plt.xlabel(\"Delay (in minutes) of store closing\")\n",
    "    plt.ylabel(\"Number of time store was closed late\")\n",
    "    plt.show()\n",
    "    \n",
    "    print(\"Average customers per hour \", lam*60)"
   ]
  },
  {
   "cell_type": "code",
   "execution_count": 71,
   "metadata": {},
   "outputs": [
    {
     "data": {
      "image/png": "[encoded data removed]",
      "text/plain": [
       "<Figure size 720x216 with 1 Axes>"
      ]
     },
     "metadata": {
      "needs_background": "light"
     },
     "output_type": "display_data"
    },
    {
     "name": "stdout",
     "output_type": "stream",
     "text": [
      "Average customers per hour  6.0\n"
     ]
    }
   ],
   "source": [
    "iterations = 100\n",
    "lam = 0.1\n",
    "T = 480\n",
    "a = 2\n",
    "b = 8\n",
    "time_lapse = 20\n",
    "\n",
    "store_closing(iterations, lam, T, a, b, time_lapse)"
   ]
  },
  {
   "cell_type": "code",
   "execution_count": 73,
   "metadata": {},
   "outputs": [],
   "source": [
    "store_closing_simulation = interactive(store_closing, iterations = (50, 1000, 10), \\\n",
    "                                       lam = (0.05, 0.3, 0.05), T = fixed(480), time_lapse = fixed(20), a = (1, 5, 1), b = (3, 10, 1))"
   ]
  },
  {
   "cell_type": "code",
   "execution_count": null,
   "metadata": {},
   "outputs": [],
   "source": [
    "store_closing_simulation"
   ]
  },
  {
   "cell_type": "code",
   "execution_count": null,
   "metadata": {},
   "outputs": [],
   "source": []
  },
  {
   "cell_type": "code",
   "execution_count": null,
   "metadata": {},
   "outputs": [],
   "source": []
  }
 ],
 "metadata": {
  "kernelspec": {
   "display_name": "Python 3",
   "language": "python",
   "name": "python3"
  },
  "language_info": {
   "codemirror_mode": {
    "name": "ipython",
    "version": 3
   },
   "file_extension": ".py",
   "mimetype": "text/x-python",
   "name": "python",
   "nbconvert_exporter": "python",
   "pygments_lexer": "ipython3",
   "version": "3.7.3"
  }
 },
 "nbformat": 4,
 "nbformat_minor": 2
}
